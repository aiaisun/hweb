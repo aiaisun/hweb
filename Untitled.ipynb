{
 "cells": [
  {
   "cell_type": "code",
   "execution_count": 1,
   "metadata": {},
   "outputs": [],
   "source": [
    "import sys\n",
    "import json\n",
    "import re\n",
    "import pandas as pd\n",
    "import os\n",
    "\n",
    "####Functions####\n",
    "# 開啟檔案\n",
    "def open_brd_file(filepath):\n",
    "    f = open(filepath)\n",
    "    return f\n",
    "\n",
    "#用空格拆分每一行\n",
    "def splitRow(string):\n",
    "    string = string.split()\n",
    "    return string\n",
    "\n",
    "#刪除|開頭\n",
    "def deleteRow1(string):\n",
    "    pattern = re.compile(r\"\\|\")\n",
    "    delete = pattern.findall(string)\n",
    "    return delete\n",
    "#刪除- - -開頭\n",
    "def deleteRow2(string):\n",
    "    pattern = re.compile(r\"^\\-$\")\n",
    "    delete = pattern.findall(string)\n",
    "    return delete\n",
    "\n",
    "#刪除R開頭\n",
    "def deleteRow3(string):\n",
    "    pattern = re.compile(r\"^R\")\n",
    "    delete = pattern.findall(string)\n",
    "    return delete\n",
    "\n",
    "# 存excel\n",
    "def save_excel(write, df, sheetName):\n",
    "#     df = pd.DataFrame(datalist)\n",
    "    df.to_excel(write, sheet_name=f'{sheetName}', index=False)\n",
    "\n",
    "#刪多餘的raw\n",
    "def deleteNullVIAROW(df):\n",
    "    for i in range(df.shape[0]):\n",
    "        if df.loc[i, \"location\"] == \"VIA\" and df.loc[i, \"gap\"] == 0.0:\n",
    "            df.drop(i, axis=0, inplace=True)\n",
    "            \n",
    "#這一份txt total的path 數量\n",
    "def branchPathNum(df):\n",
    "    #扣掉net name/start_end/total length\n",
    "    maxPathNum = int((df.shape[1] - 7) / 2)\n",
    "    return maxPathNum\n"
   ]
  },
  {
   "cell_type": "code",
   "execution_count": null,
   "metadata": {},
   "outputs": [],
   "source": [
    "#step1: 開啟檔案\n",
    "try:\n",
    "    f = open_brd_file(\"1023c-1_VRAM.txt\")\n",
    "    # print(f\"step1: Open file. (File name: {filepath}) -DONE\")\n",
    "\n",
    "except:\n",
    "    result = \"File is not exit, please check file name.\"\n",
    "    json = json.dumps(result)\n",
    "    print(str(json))\n",
    "    sys.stdout.flush()\n"
   ]
  },
  {
   "cell_type": "code",
   "execution_count": null,
   "metadata": {},
   "outputs": [],
   "source": [
    "1023c-1_VRAM"
   ]
  }
 ],
 "metadata": {
  "kernelspec": {
   "display_name": "Python 3",
   "language": "python",
   "name": "python3"
  },
  "language_info": {
   "codemirror_mode": {
    "name": "ipython",
    "version": 3
   },
   "file_extension": ".py",
   "mimetype": "text/x-python",
   "name": "python",
   "nbconvert_exporter": "python",
   "pygments_lexer": "ipython3",
   "version": "3.8.3"
  }
 },
 "nbformat": 4,
 "nbformat_minor": 4
}

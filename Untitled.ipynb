{
 "cells": [
  {
   "cell_type": "code",
   "execution_count": 5,
   "metadata": {},
   "outputs": [],
   "source": [
    "import math"
   ]
  },
  {
   "cell_type": "code",
   "execution_count": 24,
   "metadata": {
    "scrolled": true
   },
   "outputs": [
    {
     "data": {
      "text/plain": [
       "3"
      ]
     },
     "execution_count": 24,
     "metadata": {},
     "output_type": "execute_result"
    }
   ],
   "source": [
    "num = 24\n",
    "pageNum = math.ceil(num/10)\n",
    "pageNum"
   ]
  },
  {
   "cell_type": "code",
   "execution_count": 27,
   "metadata": {
    "collapsed": true
   },
   "outputs": [
    {
     "name": "stdout",
     "output_type": "stream",
     "text": [
      "page: 1\n",
      "0\n",
      "1\n",
      "2\n",
      "3\n",
      "4\n",
      "5\n",
      "6\n",
      "7\n",
      "8\n",
      "9\n",
      "page: 2\n",
      "10\n",
      "11\n",
      "12\n",
      "13\n",
      "14\n",
      "15\n",
      "16\n",
      "17\n",
      "18\n",
      "19\n",
      "page: 3\n",
      "20\n",
      "21\n",
      "22\n",
      "23\n",
      "24\n",
      "25\n",
      "26\n",
      "27\n",
      "28\n",
      "29\n"
     ]
    }
   ],
   "source": [
    "for p in range(pageNum):\n",
    "    page = p + 1\n",
    "    print(\"page:\", page)\n",
    "    for i in range(  p * 10 , page * 10):\n",
    "        print(i)"
   ]
  },
  {
   "cell_type": "code",
   "execution_count": 34,
   "metadata": {},
   "outputs": [
    {
     "name": "stdout",
     "output_type": "stream",
     "text": [
      "i 0\n",
      "0\n",
      "i 1\n",
      "0\n",
      "i 2\n",
      "0\n",
      "i 3\n",
      "0\n",
      "i 4\n",
      "0\n",
      "i 5\n",
      "0\n",
      "i 6\n",
      "0\n",
      "i 7\n",
      "0\n",
      "i 8\n",
      "0\n",
      "i 9\n",
      "0\n",
      "i 10\n",
      "1\n",
      "i 11\n",
      "1\n",
      "i 12\n",
      "1\n",
      "i 13\n",
      "1\n",
      "i 14\n",
      "1\n",
      "i 15\n",
      "1\n",
      "i 16\n",
      "1\n",
      "i 17\n",
      "1\n",
      "i 18\n",
      "1\n",
      "i 19\n",
      "1\n",
      "i 20\n",
      "2\n",
      "i 21\n",
      "2\n",
      "i 22\n",
      "2\n",
      "i 23\n",
      "2\n"
     ]
    }
   ],
   "source": [
    "for i in range(num):\n",
    "    print(\"i\", i)\n",
    "    print (math.floor(i/10))\n",
    "    \n",
    "    "
   ]
  },
  {
   "cell_type": "code",
   "execution_count": null,
   "metadata": {},
   "outputs": [],
   "source": []
  }
 ],
 "metadata": {
  "kernelspec": {
   "display_name": "Python 3",
   "language": "python",
   "name": "python3"
  },
  "language_info": {
   "codemirror_mode": {
    "name": "ipython",
    "version": 3
   },
   "file_extension": ".py",
   "mimetype": "text/x-python",
   "name": "python",
   "nbconvert_exporter": "python",
   "pygments_lexer": "ipython3",
   "version": "3.8.3"
  }
 },
 "nbformat": 4,
 "nbformat_minor": 4
}
